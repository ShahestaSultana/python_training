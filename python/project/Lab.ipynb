{
 "cells": [
  {
   "cell_type": "markdown",
   "metadata": {},
   "source": [
    "# Project 1"
   ]
  },
  {
   "cell_type": "markdown",
   "metadata": {},
   "source": [
    "Salary revison \n",
    " 1. check username and password- correct\n",
    " 2. accept emp name considered for salary revision\n",
    " 3. attributes-- pyramid level,performance rating, previous apprails, certification\n",
    " 4. calculate the appraisal \n",
    " 5. store the details(salary_details) and log file(hw many people tried login)"
   ]
  },
  {
   "cell_type": "code",
   "execution_count": 14,
   "metadata": {},
   "outputs": [
    {
     "name": "stdout",
     "output_type": "stream",
     "text": [
      "Enter usernamesh\n",
      "Enter password1234\n",
      "Welcome to Appraisal portal\n",
      "Enter employee name--shahesta\n",
      "Enter current salary--20000\n",
      "Enter ratings on a scale of 1-5, 5 being the highest--3\n",
      "Is the employee certified- Enter yes or noyes\n",
      "Number of new tech learnt3\n",
      "Years of experiance--`3\n",
      "25001.35\n"
     ]
    }
   ],
   "source": [
    "#Salary Revision\n",
    "\n",
    "class finance:\n",
    "    \n",
    "    def __init__(self,salary,ratings,certifications,exp,newtech):\n",
    "        self.salary=salary\n",
    "        self.ratings=ratings\n",
    "        self.cert=certifications\n",
    "        self.exp=exp\n",
    "        self.newtech=newtech\n",
    "    \n",
    "    def appraisal(x):\n",
    "        if (x.cert ==\"yes\"):\n",
    "            app_value=eval(\"(0.25 * x.salary) + (.20 * x.ratings) + (0.15* x.exp) + (0.10 * x.newtech)\")\n",
    "        else:\n",
    "            app_value=eval(\"(0.15 * x.salary) + (0.10 * x.ratings) + (0.05 * x.exp) + (0.025 * x.newtech)\")\n",
    "    \n",
    "        return app_value\n",
    "\n",
    "\n",
    "import time\n",
    "\n",
    "allowed_password=1234\n",
    "username=input(\"Enter username\")\n",
    "password=int(input(\"Enter password\"))\n",
    "\n",
    "if password==allowed_password:\n",
    "    print(\"Welcome to Appraisal portal\")\n",
    "    current_time=time.strftime(\"%d/%m/%Y|%H:%M:%S\")\n",
    "    login_file=open(\"Login.txt\",\"a\")\n",
    "    a=login_file.write(str(current_time+\" \"+ username +\"\\n\"))\n",
    "    login_file.close()\n",
    "    \n",
    "    #employee details\n",
    "    \n",
    "    emp_name=input(\"Enter employee name--\")\n",
    "    emp_salary=int(input(\"Enter current salary--\"))\n",
    "    emp_ratings=int(input(\"Enter ratings on a scale of 1-5, 5 being the highest--\"))\n",
    "    emp_certified=input(\"Is the employee certified- Enter yes or no\")\n",
    "    emp_newtech=int(input(\"Number of new tech learnt\"))\n",
    "    emp_exp=int(input(\"Years of experiance--`\"))\n",
    "        \n",
    "    obj=finance(emp_salary,emp_ratings,emp_certified,emp_exp,emp_newtech)\n",
    "    appraisal_value=obj.appraisal()\n",
    "    re_salary=emp_salary + appraisal_value\n",
    "    print(re_salary)\n",
    "    \n",
    "    #write into appraisal file\n",
    "    \n",
    "    app_file=open(\"appraisal.tx\",\"a\")\n",
    "    b=app_file.write(\"Previous salary= \"+ str(emp_salary) + \"\\n\")\n",
    "    b=app_file.write(\"Revised salary=\"+ str(re_salary )+ \"\\n\")\n",
    "    app_file.close()\n",
    "    \n",
    "else:\n",
    "    print(\"Authorization failed\")\n",
    "    \n",
    "    \n",
    "\n",
    "\n",
    "    \n",
    "    \n",
    "    "
   ]
  },
  {
   "cell_type": "code",
   "execution_count": null,
   "metadata": {},
   "outputs": [],
   "source": []
  }
 ],
 "metadata": {
  "kernelspec": {
   "display_name": "Python 3",
   "language": "python",
   "name": "python3"
  },
  "language_info": {
   "codemirror_mode": {
    "name": "ipython",
    "version": 3
   },
   "file_extension": ".py",
   "mimetype": "text/x-python",
   "name": "python",
   "nbconvert_exporter": "python",
   "pygments_lexer": "ipython3",
   "version": "3.7.3"
  }
 },
 "nbformat": 4,
 "nbformat_minor": 2
}
